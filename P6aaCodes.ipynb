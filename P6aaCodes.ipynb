{
 "cells": [
  {
   "cell_type": "code",
   "execution_count": 1,
   "metadata": {},
   "outputs": [],
   "source": [
    "# Points à discuter avec Corentin:\n",
    "# 1. Méthodes à comparer :\n",
    "    # a) Méthode de traitement de texte (tf-idf-supervisée et une méthode non supervisée (par ex lda et lda vis)), et\n",
    "    # b) méthode de prédiction : rf seulement (XGBOOST ne gère pas quand y a n-dimensions)\n",
    "        # Alternative possible one vs rest (on entraîne un des Tags vs les autres)\n",
    "\n",
    "# Dans cet exercice : \n",
    "    # Approche supervisée = retrouver les tags \n",
    "    # Approche non supervisée = prévoir des tags. On ne passe pas par un dataset déjà crée : on crée un tag à partir du texte\n",
    "        # on peut utiliser : nmf (non negative matrice factorisation) : classement par topics (définis = clusters)\n",
    "        # lda (latent dirichlet allocation) : assez proche de nmf. \n",
    "        # Essayer ldavis qui permet de visualiser les topics générés par lda\n",
    "\n",
    "\n",
    "# 2. Elaboration base line (mesure performances) : J'ai réussi si je transforme y en table de 1 dimension\n",
    "    # Est ce ok de procéder comme tel pour la mesure de la perf ? etant entendu que pour la prédiction, je garde\n",
    "    # y en n-dimensions : ce qui a été choisi numpy.argmin() / numpy.argmax() ==> Sans ce cas pas vraiment le bon choix\n",
    "    # Sinon, comment on fait ?\n",
    "# https://scikit-learn.org/stable/modules/model_evaluation.html\n",
    "# Multilabel\n",
    "# Accuracy : Compte le score comme OK, si on a prédit correctement l'ensemble des scores : assez conservatif\n",
    "# On peut se construire sa métrique\n",
    "# Proportion des tags prédits vs ceux à l'origine\n",
    "\n",
    "# 3. Output de la prédiction : un peu comme pour le projet de reco de ciné, on va chercher l'indice de la\n",
    "    # Questionnaire : on saisit le titre et le corps du texte\n",
    "    # En réponse, on obtient un ou plusieurs Tags Est ce bien cela ?\n",
    "\n",
    "# Pour suivre les modifications du code final à déployer, \n",
    "# utiliser un logiciel de gestion de versions, par exemple Git.\n",
    "# ==>  A mettre en place maintenant\n",
    "\n",
    "import warnings\n",
    "warnings.simplefilter(\"ignore\")\n",
    "warnings.warn(\"deprecated\", DeprecationWarning)\n",
    "warnings.simplefilter(\"ignore\")"
   ]
  },
  {
   "cell_type": "code",
   "execution_count": 3,
   "metadata": {},
   "outputs": [],
   "source": [
    "# Etape 1 : import librairie et données sources\n",
    "import pandas as pd\n",
    "import numpy as np\n",
    "df = pd.read_csv(\"P6QueryResults5.csv\", sep=\",\")"
   ]
  },
  {
   "cell_type": "code",
   "execution_count": 4,
   "metadata": {},
   "outputs": [
    {
     "name": "stdout",
     "output_type": "stream",
     "text": [
      "<class 'pandas.core.frame.DataFrame'>\n",
      "RangeIndex: 50000 entries, 0 to 49999\n",
      "Data columns (total 5 columns):\n",
      " #   Column  Non-Null Count  Dtype \n",
      "---  ------  --------------  ----- \n",
      " 0   Id      50000 non-null  int64 \n",
      " 1   Body    50000 non-null  object\n",
      " 2   Title   49999 non-null  object\n",
      " 3   Tags    50000 non-null  object\n",
      " 4   Text    50000 non-null  object\n",
      "dtypes: int64(1), object(4)\n",
      "memory usage: 1.9+ MB\n"
     ]
    }
   ],
   "source": [
    "# Etape 2 : Creation de la matière sur laquelle on va travailler\n",
    "\n",
    "# Rappel : L'objectif consiste à Prédire des Tags, sur la base :\n",
    "# Des champs 'Body' et 'Title' qui constituent la variable X\n",
    "# Du champs 'Tags' qui constitue la variable Y à prédire\n",
    "df['Text'] = df['Body'].astype(str) + df['Title'].astype(str)\n",
    "df['Tags'] = df['Tags'].astype(str)\n",
    "df.info()"
   ]
  },
  {
   "cell_type": "code",
   "execution_count": 5,
   "metadata": {},
   "outputs": [],
   "source": [
    "# Etape 3 : Import librairie pour nettoyage texte et tf-idf\n",
    "import re\n",
    "import nltk\n",
    "import pickle\n",
    "from nltk.corpus import stopwords\n",
    "from bs4 import BeautifulSoup"
   ]
  },
  {
   "cell_type": "code",
   "execution_count": 6,
   "metadata": {},
   "outputs": [],
   "source": [
    "# Définition des X et y\n",
    "X, y = df.Text, df.Tags"
   ]
  },
  {
   "cell_type": "code",
   "execution_count": 7,
   "metadata": {},
   "outputs": [
    {
     "name": "stdout",
     "output_type": "stream",
     "text": [
      "sql server - equivalent excel choose function vb net\n",
      "free c++ memory vector arr\n"
     ]
    }
   ],
   "source": [
    "REPLACE_BY_SPACE_RE = re.compile('[/(){}\\[\\]\\|@,;?*]')\n",
    "BAD_SYMBOLS_RE1 = re.compile('[^0-9a-z #+_-]')\n",
    "STOPWORDS = list((stopwords.words('english')))\n",
    "\n",
    "def text_prepare_WithSoup(text, join_symbol):\n",
    "    \"\"\"\n",
    "        text: a string\n",
    "\n",
    "        return: modified initial string\n",
    "    \"\"\"\n",
    "    # 1. Remove HTML\n",
    "    text = BeautifulSoup(text,features=\"lxml\").get_text()\n",
    "    \n",
    "    # lowercase text\n",
    "    text = text.lower()\n",
    "\n",
    "    # replace REPLACE_BY_SPACE_RE symbols by space in text\n",
    "    text = re.sub(REPLACE_BY_SPACE_RE, \" \", text,)\n",
    "\n",
    "    # delete symbols which are in BAD_SYMBOLS_RE from text\n",
    "    text = re.sub(BAD_SYMBOLS_RE1, \" \", text)\n",
    "    text = re.sub(r'\\s+', \" \", text)\n",
    "\n",
    "    # delete stopwords from text\n",
    "    text = f'{join_symbol}'.join(\n",
    "        [i for i in text.split() if i not in STOPWORDS])\n",
    "\n",
    "    return text\n",
    "\n",
    "\n",
    "tests = [\"SQL Server - any equivalent of Excel's CHOOSE function VB.NET. ?\",\n",
    "         \"How to free c++ memory vector<int> * arr?\"]\n",
    "for test in tests:\n",
    "    print(text_prepare_WithSoup(test, ' '))"
   ]
  },
  {
   "cell_type": "code",
   "execution_count": 8,
   "metadata": {},
   "outputs": [
    {
     "name": "stdout",
     "output_type": "stream",
     "text": [
      "sql server - equivalent excel choose function vb.net.\n",
      "free c++ memory vector int arr\n"
     ]
    }
   ],
   "source": [
    "BAD_SYMBOLS_RE2 = re.compile('[^0-9a-z .#+_-]') # A la différence de 'BAD_SYMBOLS_RE2', ici, on garde le '.'\n",
    "# 'VB.NET' devient 'vb.net'\n",
    "def text_prepare_NoSoup(text, join_symbol):\n",
    "    \"\"\"\n",
    "        text: a string\n",
    "\n",
    "        return: modified initial string\n",
    "    \"\"\"\n",
    "    # lowercase text\n",
    "    text = text.lower()\n",
    "\n",
    "    # replace REPLACE_BY_SPACE_RE symbols by space in text\n",
    "    text = re.sub(REPLACE_BY_SPACE_RE, \" \", text,)\n",
    "\n",
    "    # delete symbols which are in BAD_SYMBOLS_RE from text\n",
    "    text = re.sub(BAD_SYMBOLS_RE2, \" \", text)\n",
    "    text = re.sub(r'\\s+', \" \", text)\n",
    "\n",
    "    # delete stopwords from text\n",
    "    text = f'{join_symbol}'.join(\n",
    "        [i for i in text.split() if i not in STOPWORDS])\n",
    "\n",
    "    return text\n",
    "for test in tests:\n",
    "    print(text_prepare_NoSoup(test, ' '))"
   ]
  },
  {
   "cell_type": "code",
   "execution_count": 9,
   "metadata": {},
   "outputs": [],
   "source": [
    "documents = [text_prepare_WithSoup(X, ' ') for X in X]\n",
    "y_cleaned = [text_prepare_NoSoup(y, ' ') for y in y]"
   ]
  },
  {
   "cell_type": "code",
   "execution_count": 10,
   "metadata": {
    "scrolled": true
   },
   "outputs": [
    {
     "data": {
      "text/plain": [
       "'<p>I want to use a <code>Track-Bar</code> to change a <code>Form</code>\\'s opacity.</p>\\n<p>This is my code:</p>\\n<pre class=\"lang-cs prettyprint-override\"><code>decimal trans = trackBar1.Value / 5000;\\nthis.Opacity = trans;\\n</code></pre>\\n<p>When I build the application, it gives the following error:</p>\\n<blockquote>\\n<p>Cannot implicitly convert type <code>decimal</code> to <code>double</code></p>\\n</blockquote>\\n<p>I have tried using <code>trans</code> and <code>double</code> but then the <code>Control</code> doesn\\'t work. This code worked fine in a past VB.NET project.</p>\\nConvert Decimal to Double'"
      ]
     },
     "execution_count": 10,
     "metadata": {},
     "output_type": "execute_result"
    }
   ],
   "source": [
    "X[0]"
   ]
  },
  {
   "cell_type": "code",
   "execution_count": 11,
   "metadata": {},
   "outputs": [
    {
     "data": {
      "text/plain": [
       "'want use track-bar change form opacity code decimal trans trackbar1 value 5000 opacity trans build application gives following error cannot implicitly convert type decimal double tried using trans double control work code worked fine past vb net project convert decimal double'"
      ]
     },
     "execution_count": 11,
     "metadata": {},
     "output_type": "execute_result"
    }
   ],
   "source": [
    "documents[0]"
   ]
  },
  {
   "cell_type": "code",
   "execution_count": 12,
   "metadata": {},
   "outputs": [
    {
     "data": {
      "text/plain": [
       "50                                  <c++><berkeley-db>\n",
       "51                                <svn><collaboration>\n",
       "52                     <c#><.net><sorting><dictionary>\n",
       "53            <sql><database><oracle><version-control>\n",
       "54                                     <security><php>\n",
       "55                     <c++><oop><class><nested-class>\n",
       "56                          <language-agnostic><types>\n",
       "57                                       <python><xml>\n",
       "58         <string><language-agnostic><cross-platform>\n",
       "59                                 <email><email-spam>\n",
       "60    <java><generics><warnings><casting><type-safety>\n",
       "61                                    <search><lucene>\n",
       "62                       <ios><objective-c><landscape>\n",
       "63                                          <com><vb6>\n",
       "64       <internet-explorer><windows-mobile><pocketpc>\n",
       "Name: Tags, dtype: object"
      ]
     },
     "execution_count": 12,
     "metadata": {},
     "output_type": "execute_result"
    }
   ],
   "source": [
    "y[50:65]"
   ]
  },
  {
   "cell_type": "code",
   "execution_count": 13,
   "metadata": {},
   "outputs": [
    {
     "data": {
      "text/plain": [
       "['c++ berkeley-db',\n",
       " 'svn collaboration',\n",
       " 'c# .net sorting dictionary',\n",
       " 'sql database oracle version-control',\n",
       " 'security php',\n",
       " 'c++ oop class nested-class',\n",
       " 'language-agnostic types',\n",
       " 'python xml',\n",
       " 'string language-agnostic cross-platform',\n",
       " 'email email-spam',\n",
       " 'java generics warnings casting type-safety',\n",
       " 'search lucene',\n",
       " 'ios objective-c landscape',\n",
       " 'com vb6',\n",
       " 'internet-explorer windows-mobile pocketpc']"
      ]
     },
     "execution_count": 13,
     "metadata": {},
     "output_type": "execute_result"
    }
   ],
   "source": [
    "y_cleaned [50:65]"
   ]
  },
  {
   "cell_type": "code",
   "execution_count": 14,
   "metadata": {},
   "outputs": [],
   "source": [
    "# Etape 5 : Conversion des données textuelles et valeur numériques\n",
    "from sklearn.feature_extraction.text import CountVectorizer\n",
    "vectorizer = CountVectorizer(max_features=1500, min_df=5, max_df=0.7, stop_words=stopwords.words('english'))\n",
    "X = vectorizer.fit_transform(documents).toarray()"
   ]
  },
  {
   "cell_type": "code",
   "execution_count": 15,
   "metadata": {},
   "outputs": [],
   "source": [
    "vectorizer = CountVectorizer(max_features=50, \n",
    "                             #min_df=0.05, \n",
    "                             max_df=0.85, \n",
    "                             stop_words=stopwords.words('english'))\n",
    "y = vectorizer.fit_transform(y_cleaned).toarray()"
   ]
  },
  {
   "cell_type": "code",
   "execution_count": 16,
   "metadata": {},
   "outputs": [
    {
     "data": {
      "text/plain": [
       "(50000, 1500)"
      ]
     },
     "execution_count": 16,
     "metadata": {},
     "output_type": "execute_result"
    }
   ],
   "source": [
    "X.shape"
   ]
  },
  {
   "cell_type": "code",
   "execution_count": 17,
   "metadata": {},
   "outputs": [
    {
     "data": {
      "text/plain": [
       "array([0, 0, 0, ..., 0, 0, 0])"
      ]
     },
     "execution_count": 17,
     "metadata": {},
     "output_type": "execute_result"
    }
   ],
   "source": [
    "X[0]"
   ]
  },
  {
   "cell_type": "code",
   "execution_count": 18,
   "metadata": {},
   "outputs": [
    {
     "data": {
      "text/plain": [
       "array([0, 0, 0, 0, 0, 0, 0, 0, 0, 0, 0, 0, 0, 0, 0, 0, 0, 0, 0, 0, 0, 0,\n",
       "       0, 0, 0, 0, 0, 0, 0, 0, 0, 0, 0, 0, 0, 0, 0, 0, 0, 0, 0, 0, 0, 0,\n",
       "       0, 0, 0, 0, 0, 0])"
      ]
     },
     "execution_count": 18,
     "metadata": {},
     "output_type": "execute_result"
    }
   ],
   "source": [
    "y[0]"
   ]
  },
  {
   "cell_type": "code",
   "execution_count": 19,
   "metadata": {},
   "outputs": [],
   "source": [
    "# Etape 6 : Process TF-IDF\n",
    "# 6.1 Pour X\n",
    "from sklearn.feature_extraction.text import TfidfTransformer\n",
    "tfidfconverter = TfidfTransformer()\n",
    "X = tfidfconverter.fit_transform(X).toarray()"
   ]
  },
  {
   "cell_type": "code",
   "execution_count": 20,
   "metadata": {},
   "outputs": [],
   "source": [
    "#  6.2 Pour y : Pour y, il faut seulement CountVectorizer (avoir des valeurs binaires)\n",
    "vectorizer = CountVectorizer(analyzer=\"word\",\n",
    "                             tokenizer=None,\n",
    "                             preprocessor=None,\n",
    "                             stop_words=None,\n",
    "                             max_features=50)\n",
    "y = vectorizer.fit_transform(y_cleaned)\n",
    "# Conversion de y en array (plus facile de travailler avec)\n",
    "y = y.toarray()"
   ]
  },
  {
   "cell_type": "code",
   "execution_count": 21,
   "metadata": {},
   "outputs": [
    {
     "data": {
      "text/plain": [
       "(50000, 1500)"
      ]
     },
     "execution_count": 21,
     "metadata": {},
     "output_type": "execute_result"
    }
   ],
   "source": [
    "X.shape"
   ]
  },
  {
   "cell_type": "code",
   "execution_count": 22,
   "metadata": {},
   "outputs": [
    {
     "data": {
      "text/plain": [
       "array([0., 0., 0., ..., 0., 0., 0.])"
      ]
     },
     "execution_count": 22,
     "metadata": {},
     "output_type": "execute_result"
    }
   ],
   "source": [
    "X[0]"
   ]
  },
  {
   "cell_type": "code",
   "execution_count": 23,
   "metadata": {},
   "outputs": [
    {
     "data": {
      "text/plain": [
       "(50000, 50)"
      ]
     },
     "execution_count": 23,
     "metadata": {},
     "output_type": "execute_result"
    }
   ],
   "source": [
    "y.shape"
   ]
  },
  {
   "cell_type": "code",
   "execution_count": 24,
   "metadata": {},
   "outputs": [
    {
     "data": {
      "text/plain": [
       "array([0, 0, 0, 0, 0, 0, 0, 0, 0, 0, 0, 0, 0, 0, 0, 0, 0, 0, 0, 0, 0, 0,\n",
       "       0, 0, 0, 0, 0, 0, 0, 0, 0, 0, 0, 0, 0, 0, 0, 0, 0, 0, 0, 0, 0, 0,\n",
       "       0, 0, 0, 0, 0, 0])"
      ]
     },
     "execution_count": 24,
     "metadata": {},
     "output_type": "execute_result"
    }
   ],
   "source": [
    "y[0]"
   ]
  },
  {
   "cell_type": "code",
   "execution_count": 25,
   "metadata": {},
   "outputs": [],
   "source": [
    "# Etape 7 : Mise en place des ensemble train test\n",
    "from sklearn.model_selection import train_test_split\n",
    "X_train, X_test, y_train, y_test = train_test_split(\n",
    "    X, y, test_size=0.3, random_state=42)"
   ]
  },
  {
   "cell_type": "code",
   "execution_count": 26,
   "metadata": {},
   "outputs": [],
   "source": [
    "# *** ICI *** Il faut transformer la matrice y_pred en liste 1 dimension, \n",
    "    # sinon grid search, les calculs de perf et de matrice de confusion ne fonctionnent pas\n",
    "    # L'idée est de faire une base line avec cette matrice de dimension 1\n",
    "    # Mais le modèle sera bien exécuté avec la matrice de dimension n : le modèle predn le nom '_max'\n",
    "import numpy as np\n",
    "y_test_max= np.argmax(y_test, axis=1) # On prend les valeurs max : si je prends une autre méthode (argmin) ça change ?\n",
    "y_train_max = np.argmax(y_train, axis=1)"
   ]
  },
  {
   "cell_type": "code",
   "execution_count": 27,
   "metadata": {},
   "outputs": [],
   "source": [
    "# Etape 8 : Entrainement classification des textes et prédiction des tags\n",
    "# Préalablement, on fait un GridSearchCV pour recherche paramètres à optimiser\n",
    "from sklearn.model_selection import GridSearchCV\n",
    "from sklearn.ensemble import RandomForestClassifier\n",
    "\n",
    "param_gridRF = {\"max_depth\": [3, 5],  # Maximum number of levels in tree\n",
    "                \"min_samples_split\": [3, 10],# Minimum number of samples required to split a node\n",
    "                }\n",
    "\n",
    "rfc = RandomForestClassifier(random_state=42, oob_score=True)"
   ]
  },
  {
   "cell_type": "code",
   "execution_count": 28,
   "metadata": {},
   "outputs": [
    {
     "data": {
      "text/plain": [
       "0"
      ]
     },
     "execution_count": 28,
     "metadata": {},
     "output_type": "execute_result"
    }
   ],
   "source": [
    "# Vérification : on plus qu'une seule dimension\n",
    "y_test_max[0]"
   ]
  },
  {
   "cell_type": "code",
   "execution_count": 29,
   "metadata": {},
   "outputs": [],
   "source": [
    "from sklearn.metrics import accuracy_score\n",
    "modelrf_max = GridSearchCV(rfc,\n",
    "                       param_gridRF,\n",
    "                       n_jobs=-1,\n",
    "                       cv=5\n",
    "                       )\n",
    "classifier_max = modelrf_max.fit(X_train, y_train_max)"
   ]
  },
  {
   "cell_type": "code",
   "execution_count": 30,
   "metadata": {},
   "outputs": [
    {
     "name": "stdout",
     "output_type": "stream",
     "text": [
      "{'max_depth': 5, 'min_samples_split': 10}\n"
     ]
    }
   ],
   "source": [
    "print(classifier_max.best_params_)\n",
    "# Pas de raison que le grid search ne fonctionne pas pour un y n-dimensions"
   ]
  },
  {
   "cell_type": "code",
   "execution_count": 31,
   "metadata": {
    "scrolled": false
   },
   "outputs": [
    {
     "data": {
      "text/plain": [
       "RandomForestClassifier(bootstrap=True, ccp_alpha=0.0, class_weight=None,\n",
       "                       criterion='gini', max_depth=5, max_features='auto',\n",
       "                       max_leaf_nodes=None, max_samples=None,\n",
       "                       min_impurity_decrease=0.0, min_impurity_split=None,\n",
       "                       min_samples_leaf=1, min_samples_split=10,\n",
       "                       min_weight_fraction_leaf=0.0, n_estimators=100,\n",
       "                       n_jobs=None, oob_score=False, random_state=None,\n",
       "                       verbose=0, warm_start=False)"
      ]
     },
     "execution_count": 31,
     "metadata": {},
     "output_type": "execute_result"
    }
   ],
   "source": [
    "# Prédiction sur la base des meilleurs paramètres\n",
    "classifier_max = RandomForestClassifier(max_depth = 5, min_samples_split = 10)\n",
    "classifier_max.fit(X_train, y_train_max)"
   ]
  },
  {
   "cell_type": "code",
   "execution_count": 32,
   "metadata": {},
   "outputs": [],
   "source": [
    "# Prédiction modèle y = 1 dimension pour obtenir les performances\n",
    "y_pred_max = classifier_max.predict(X_test)"
   ]
  },
  {
   "cell_type": "code",
   "execution_count": 33,
   "metadata": {},
   "outputs": [
    {
     "name": "stdout",
     "output_type": "stream",
     "text": [
      "Confusion matrix, without normalization\n",
      "[[4151    0    0 ...    0    0    0]\n",
      " [ 163    0    0 ...    0    0    0]\n",
      " [ 202    0    0 ...    0    0    0]\n",
      " ...\n",
      " [  72    0    0 ...    0    0    0]\n",
      " [ 144    0    0 ...    0    0    0]\n",
      " [ 129    0    0 ...    0    0    0]]\n",
      "Normalized confusion matrix\n",
      "[[0.99879692 0.         0.         ... 0.         0.         0.        ]\n",
      " [0.99390244 0.         0.         ... 0.         0.         0.        ]\n",
      " [1.         0.         0.         ... 0.         0.         0.        ]\n",
      " ...\n",
      " [1.         0.         0.         ... 0.         0.         0.        ]\n",
      " [1.         0.         0.         ... 0.         0.         0.        ]\n",
      " [1.         0.         0.         ... 0.         0.         0.        ]]\n"
     ]
    },
    {
     "data": {
      "image/png": "[encoded data removed]",
      "text/plain": [
       "<Figure size 432x288 with 2 Axes>"
      ]
     },
     "metadata": {
      "needs_background": "light"
     },
     "output_type": "display_data"
    },
    {
     "data": {
      "image/png": "[encoded data removed]",
      "text/plain": [
       "<Figure size 432x288 with 2 Axes>"
      ]
     },
     "metadata": {
      "needs_background": "light"
     },
     "output_type": "display_data"
    }
   ],
   "source": [
    "# 1. Matrice de confusion pour méthode rf\n",
    "from sklearn.metrics import plot_confusion_matrix\n",
    "import matplotlib.pyplot as plt\n",
    "# Plot non-normalized confusion matrix\n",
    "\n",
    "titles_options = [(\"Confusion matrix, without normalization\", None),\n",
    "                  (\"Normalized confusion matrix\", 'true')]\n",
    "for title, normalize in titles_options:\n",
    "    disp = plot_confusion_matrix(modelrf_max, X_test, y_test_max,\n",
    "                                 # display_labels=range(5),\n",
    "                                 cmap=plt.cm.Blues,\n",
    "                                 normalize=normalize)\n",
    "    disp.ax_.set_title(title)\n",
    "\n",
    "    print(title)\n",
    "    print(disp.confusion_matrix)\n",
    "\n",
    "plt.show()"
   ]
  },
  {
   "cell_type": "code",
   "execution_count": 34,
   "metadata": {
    "scrolled": true
   },
   "outputs": [
    {
     "name": "stdout",
     "output_type": "stream",
     "text": [
      "[[4149    0    0 ...    0    0    0]\n",
      " [ 162    0    0 ...    0    0    0]\n",
      " [ 202    0    0 ...    0    0    0]\n",
      " ...\n",
      " [  72    0    0 ...    0    0    0]\n",
      " [ 144    0    0 ...    0    0    0]\n",
      " [ 129    0    0 ...    0    0    0]]\n",
      "              precision    recall  f1-score   support\n",
      "\n",
      "           0       0.28      1.00      0.44      4156\n",
      "           1       0.00      0.00      0.00       164\n",
      "           2       0.00      0.00      0.00       202\n",
      "           3       0.79      0.18      0.29       692\n",
      "           4       0.00      0.00      0.00       219\n",
      "           5       0.00      0.00      0.00       172\n",
      "           6       0.00      0.00      0.00       235\n",
      "           7       0.00      0.00      0.00       146\n",
      "           8       0.00      0.00      0.00       286\n",
      "           9       0.00      0.00      0.00       129\n",
      "          10       0.00      0.00      0.00       121\n",
      "          11       0.00      0.00      0.00       155\n",
      "          12       0.00      0.00      0.00       209\n",
      "          13       0.00      0.00      0.00       275\n",
      "          14       0.00      0.00      0.00       167\n",
      "          15       0.00      0.00      0.00       134\n",
      "          16       0.79      0.02      0.05      1097\n",
      "          17       0.00      0.00      0.00       547\n",
      "          18       0.00      0.00      0.00        98\n",
      "          19       0.00      0.00      0.00        28\n",
      "          20       0.00      0.00      0.00       198\n",
      "          21       0.00      0.00      0.00       229\n",
      "          22       0.00      0.00      0.00       103\n",
      "          23       0.00      0.00      0.00        96\n",
      "          24       0.00      0.00      0.00         2\n",
      "          25       0.00      0.00      0.00       200\n",
      "          26       0.00      0.00      0.00      1391\n",
      "          27       0.00      0.00      0.00        82\n",
      "          28       0.00      0.00      0.00       114\n",
      "          29       0.00      0.00      0.00       157\n",
      "          30       0.00      0.00      0.00       351\n",
      "          31       0.00      0.00      0.00       567\n",
      "          32       0.00      0.00      0.00         2\n",
      "          33       0.00      0.00      0.00        85\n",
      "          34       0.00      0.00      0.00       229\n",
      "          35       0.00      0.00      0.00       238\n",
      "          36       0.00      0.00      0.00        89\n",
      "          37       0.00      0.00      0.00       361\n",
      "          38       0.00      0.00      0.00        73\n",
      "          39       0.00      0.00      0.00       222\n",
      "          40       0.00      0.00      0.00       113\n",
      "          41       0.00      0.00      0.00       132\n",
      "          42       0.00      0.00      0.00         1\n",
      "          43       0.00      0.00      0.00        19\n",
      "          44       0.00      0.00      0.00        50\n",
      "          45       0.00      0.00      0.00        47\n",
      "          46       0.00      0.00      0.00       272\n",
      "          47       0.00      0.00      0.00        72\n",
      "          48       0.00      0.00      0.00       144\n",
      "          49       0.00      0.00      0.00       129\n",
      "\n",
      "    accuracy                           0.29     15000\n",
      "   macro avg       0.04      0.02      0.02     15000\n",
      "weighted avg       0.17      0.29      0.14     15000\n",
      "\n",
      "0.2866\n"
     ]
    }
   ],
   "source": [
    "# Etape 9 : Evaluation du modèle\n",
    "from sklearn.metrics import classification_report, confusion_matrix, accuracy_score\n",
    "print(confusion_matrix(y_test_max,y_pred_max))\n",
    "print(classification_report(y_test_max,y_pred_max))\n",
    "print(accuracy_score(y_test_max, y_pred_max)) # Devrait accepter y n-dimensions"
   ]
  },
  {
   "cell_type": "code",
   "execution_count": 35,
   "metadata": {},
   "outputs": [],
   "source": [
    "# *** ICI *** Effectuer methode BERT et comparer avec TF-IDF"
   ]
  },
  {
   "cell_type": "code",
   "execution_count": null,
   "metadata": {},
   "outputs": [],
   "source": [
    "# Maintenant que l'on a les paramètres optimaux et une baseline, on va exécuter le modèle\n",
    "# mais avec y en n-dimensions"
   ]
  },
  {
   "cell_type": "code",
   "execution_count": null,
   "metadata": {
    "scrolled": true
   },
   "outputs": [],
   "source": [
    "# Prédiction sur la base des meilleurs paramètres\n",
    "modelrf = RandomForestClassifier(max_depth=5, min_samples_split=10)\n",
    "modelrf.fit(X_train, y_train)"
   ]
  },
  {
   "cell_type": "code",
   "execution_count": null,
   "metadata": {},
   "outputs": [],
   "source": [
    "# Prédiction modèle y = 1 dimension pour obtenir les performances\n",
    "y_pred_rf = modelrf.predict(X_test)"
   ]
  },
  {
   "cell_type": "code",
   "execution_count": null,
   "metadata": {},
   "outputs": [],
   "source": [
    "# Etape 10 : Sauvegarde du modèle devra être adapté si BERT = meilleur\n",
    "with open('P6text_classifier', 'wb') as picklefile:\n",
    "    pickle.dump(modelrf,picklefile)"
   ]
  },
  {
   "cell_type": "code",
   "execution_count": null,
   "metadata": {},
   "outputs": [],
   "source": [
    "# Etape 11 : Chargement du modèle pour prédire les tags et évaluer sa performance\n",
    "with open('P6text_classifier', 'rb') as training_model:\n",
    "    model = pickle.load(training_model)"
   ]
  },
  {
   "cell_type": "code",
   "execution_count": null,
   "metadata": {},
   "outputs": [],
   "source": []
  },
  {
   "cell_type": "code",
   "execution_count": null,
   "metadata": {},
   "outputs": [],
   "source": []
  }
 ],
 "metadata": {
  "kernelspec": {
   "display_name": "Python 3",
   "language": "python",
   "name": "python3"
  },
  "language_info": {
   "codemirror_mode": {
    "name": "ipython",
    "version": 3
   },
   "file_extension": ".py",
   "mimetype": "text/x-python",
   "name": "python",
   "nbconvert_exporter": "python",
   "pygments_lexer": "ipython3",
   "version": "3.7.6"
  }
 },
 "nbformat": 4,
 "nbformat_minor": 4
}
